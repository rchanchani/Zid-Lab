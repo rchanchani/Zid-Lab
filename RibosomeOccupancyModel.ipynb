Tunable Ribosome Occupancy Model
Author: Raghav Chanchani
For the Brian Zid laboratory at UC San Diego
Date last modified: 10/2/2018
A discrete-time Markov chain to simulate ribosome distribution along a given gene using the assumptions listed below. There is no final absorption state. Ribosomes are recycled to the -1 index after they move off of the simulated mRNAs. This model does not consider binding energies of the ribosomes to sequences in the gene of interest.
References:
https://book.bionumbers.org/what-is-faster-transcription-or-translation
https://www.columbia.edu/~ks20/stochastic-I/stochastic-I-MCI.pdf
https://github.com/gvanderheide/discreteMarkovChain
Assumptions:
Initiation when ribosome reads first codon (AUG in given gene file)
Elongation in-between
Ribosome moves one triplet with each elongation step
Ribosomes are recycled once they move off of the gene
If any pair of ribosomes' positions are under 30 nucleotides apart, the ribosome closer to AUG is not allowed to move until its position  ≥
  30 nucleotides from the next further-along ribosome
Termination when ribosome reads UAG, UAA, or UGA (in next update)
Length of gene in graph and calculations is in codons, not nucleotides
Position refers to the center position of the ribosome
The mRNAs only consist of ORFs of the gene of interest (may change in next update)
Tunable Parameters:
Initiation rate
Elongation rate
Number of ribosomes on a single mRNA
Number of mRNAs
Probability of a ribosome moving from its current position
Size of a ribosome (in nucleotides)
How long the simulated run is for (sec.)
How quickly or if initiation increases, decreases (sec.) (constant rate)
How quickly or if elongation increases, decreases (sec.) (constant rate)
(Ribosome reads 60 nt.s.
  at maximum elongation rate (1).)
In [1]:

%matplotlib notebook
import numpy as np
import math
import sys
import os
from os import path
import argparse
from itertools import chain
import matplotlib.pyplot as plt
from ipywidgets import *
import ipywidgets as widgets
from IPython.display import display
plt.style.use('ggplot')
#from discreteMarkovChain import markovChain
In [2]:

global gene_length
global mRNA
global ribo_size
global fname
​
"""
Read in the file containing the gene of interest and determine whether or not it is the correct file type ".txt" and
initialize the mRNA, occupancy, and ribosome_list lists.
"""
parser = argparse.ArgumentParser()
parser.add_argument('filename')
args = parser.parse_args('sample.txt'.split())
ribosome_list = [] # storage for all ribosomes in a single mRNA
gene_length = 0
mRNA = []
occupancy = [] # storage for all ribosomes in all mRNAs
fname = args.filename
if os.path.splitext(str(fname))[1] != '.txt':
    parser.error("file must be a .txt file")
In [3]:

"""
Description: Creates the ribosome object which stores the ribosome's position and how long
    it has been at its current position. The counter is initially set to zero.
"""
class ribosome:
    """
    Description: Creates a new ribosome object with initial position -1 and counter 0.
    Inputs: None
    Return: None
    """
    def __init__(self):
        self.position = -1
        self.counter = 0
    """
    Description: Changes the value of the ribosome's position.
    Inputs: new_position - the position the ribosome has been moved to
    Return: None
    """
    def set_position(self, new_position):
        self.position = new_position
    """
    Description: Changes the value of the ribosome object's counter variable given a new value.
    Inputs: new_count - number of timesteps ribosome has been at its current position
    Return: None
    """
    def set_counter(self, new_count):
        self.counter = new_count
In [4]:

"""
Description: Counts number of nucleotides in the gene of interest and creates an "mRNA" list of the same size
    that will be used to note ribosome positions on.
Inputs: gene_file - a .txt file that contains the mRNA base pairs of a given gene.
Return: gene_length - the length of the gene passed in, in nucleotides
        mRNA - a list corresponding with the length of the (gene_file in codons)
"""
def read_gene(gene_file):
    global gene_length
    global mRNA
    temp_list = []
    mRNA = []
    
    try:
        with open(gene_file) as inputFileHandle:
            line_list = [lines.split() for lines in inputFileHandle]  # extract lines
            while line_list:
                temp_list.extend(line_list.pop(0))
                while temp_list:
                    mRNA.extend(temp_list.pop(0))
            gene_length = int(len(mRNA)/3)
                    
            return inputFileHandle.read(), gene_length, mRNA
    except IOError:
        sys.stderr.write("read_gene - Error: Could not open {}\n".format(gene_file))
        sys.exit(-1)
​
In [5]:

"""
Description: Creates a steady state probability matrix that determines the likelihood that a ribosome
    will move to the next codon or remain in its current position.
Inputs: None
Return: None
"""
def make_matrix():
    global probability
    global gene_length
    
    probs = np.zeros[(gene_length,gene_length)]
    for col in range(gene_length):
        for row in range(gene_length):
            if row == col:
                probs[row][col] = probability
                if row == gene_length - 1:
                    probs[row][0] = abs(1-probability)
            if row + 1 == col:
                probs[row][col] = abs(1-probability)
    mc = markovChain(probs)
    mc.computePi('linear')                                      # computation method of steady-state probabilities
    steady_state_probs = mc.pi                                  # steady-state probabilities of moving into different nucleotides
    #print('equilibrium state: {}'.format(steady_state_probs))
​
    return
In [6]:

"""
Description: Given the probability that the ribosome will move, the ribosome is evaluated to move
    or remain in its current position.
Inputs: ribosome - ribosome object trying to move
Return: ribosome - same ribosome object with updated position and counter
"""
def move(ribosome):
    global gene_length
    global probability
    
    position = ribosome.position
    if ribosome.position < gene_length:
        moves = np.random.random() <= probability
        if moves:
            ribosome.position = position + 1
            ribosome.counter = 1
        else:
            ribosome.counter += 1
    return ribosome
In [7]:

"""
Description: Graphs the ribosome occupancy of codons as a histogram with x-axis being the position (in codons)
    and the y-axis being occupancy as a fraction of the total number of ribosomes simulated across all mRNA
Inputs: ribos - the list containing all ribosomes
Return: None
"""
def create_histogram(all_cules):
    global ribo_size
    global fname
    global gene_length
​
    count_array = [ribo.position for sim in all_cules for ribo in sim]
    ax = plt.gca()
    #ax.set_ylim([0.0,1.0])
    ax.set_title('Ribosome Frequency ' + os.path.splitext(str(fname))[0])
    ax.set_yscale('log')
    hist = plt.hist(count_array, bins=range(min(count_array)*200,gene_length + 10, 10), density=True)
    plt.xlabel('Distance from AUG (codon)')
    plt.ylabel('Ribosome Frequency')
    plt.show()
    
    return
In [8]:

"""
Description: Determines whether or not the ribosomes on the simulated mRNA will collide, which ribosome is allowed to
    move, and updates the positions and counters of all ribosomes corresponding to a simulated mRNA.
Inputs: ribosomes - the number of ribosomes to be run on a given mRNA
        time - the length of the simulation (sec.)
        ribo_size - the size of the ribosome object (nucleotides)
        probability - the probability that a ribosome will move forward from its current position
        kI - initiation rate
        kE - elongation rate
        n_mRNA - total number of mRNAs
Output: ribosome_list - list containing all ribosome objects corresponding to a given mRNA
"""
def simulate(ribosomes,time,ribo_size,prob,kI,kE):
    global gene_length
    global probability
    
    probability = prob
    ribosome_list = [ribosome() for complex in range(ribosomes)]
    flag, gene_length, mRNA = read_gene(args.filename)
    discrete_time = [step for step in range(time*10)] # x10 is used because it splits the simulation into 0.1sec. res.
    for t_step in discrete_time:
        for complex in range(len(ribosome_list) - 1): # for each ribosome...
            step = ribosome_list[complex].counter
            if t_step % kI == 0: # if initiation timestep
                if step % kE == 0: # if elongation timestep
                    if ribosome_list[complex].position == 0: # if at beginning of gene
                        if complex == 0: # if first ribosome in the simulation
                            if ribosome_list[complex].counter == 1: # if just arrived at beginning of gene
                                ribosome_list[complex].counter += 1
                                continue # move on to next ribosome
                            else: ribosome_list[complex] = move(ribosome_list[complex]) # if not just arrived then attempt to move
                        else:
                            if abs(ribosome_list[complex].position-ribosome_list[complex-1].position) > \
                            ribo_size-1: # if correct distance fom other ribosome
                                ribosome_list[complex] = move(ribosome_list[complex])
                            else: ribosome_list[complex].counter += 1
                    elif ribosome_list[complex].position == -1: # if not on gene yet
                        if complex == 0: # if first ribosome in the simulation
                            moves = np.random.random() <= probability
                            if moves:
                                ribosome_list[complex].counter = 1
                                ribosome_list[complex].position = 0
                            else: ribosome_list[complex].counter += 1
                        else:
                            if abs(ribosome_list[complex].position-ribosome_list[complex-1].position) > \
                            ribo_size-1: # if correct distance fom other ribosome
                                moves = np.random.random() <= probability
                                if moves:
                                    ribosome_list[complex].counter = 1
                                    ribosome_list[complex].position = 0
                                else: ribosome_list[complex].counter += 1
                            else: ribosome_list[complex].counter += 1
                    else: # if somewhere on gene not at beginning
                        if complex == 0: # if first ribosome in the simulation
                            ribosome_list[complex] = move(ribosome_list[complex])
                            if ribosome_list[complex].position > gene_length:
                                ribosome_list[complex].position = -1
                                ribosome_list[complex].counter = 1
                        else:
                            if abs(ribosome_list[complex].position-ribosome_list[complex-1].position) > \
                            ribo_size-1:
                                ribosome_list[complex] = move(ribosome_list[complex])
                                if ribosome_list[complex].position > gene_length: # if the ribosome leaves the ribosome it is recycled
                                    ribosome_list[complex].position = -1
                                    ribosome_list[complex].counter = 1
                            else: ribosome_list[complex].counter += 1
                else: # if not an elongation timestep and only an initiation timestep
                    if complex == 0: # if first ribosome in the simulation
                        if ribosome_list[complex].position == -1:
                            moves = np.random.random() <= probability
                            if moves:
                                ribosome_list[complex].counter = 1
                                ribosome_list[complex].position = 0
                        else: ribosome_list[complex].counter += 1 # check other conditions
                    else: # if complex > 0
                        if ribosome_list[complex].position == -1: # if ribosome was not initialized
                            if abs(ribosome_list[complex].position-ribosome_list[complex-1].position) > \
                            ribo_size-1:
                                moves = np.random.random() <= probability
                                if moves:
                                    ribosome_list[complex].counter = 1
                                    ribosome_list[complex].position = 0
                            else: ribosome_list[complex].counter += 1
                        else: ribosome_list[complex].counter += 1
            else: # if not an initiation timestep
                if ribosome_list[complex].position == 0: # if at the beginning of the mRNA
                    if step % kE == 0: # if an elongation step
                        if complex == 0: # if first ribosome in the simulation
                                ribosome_list[complex] = move(ribosome_list[complex]) # attempt to move
                                if ribosome_list[complex].position > gene_length: # if the ribosome leaves the ribosome it is recycled
                                    ribosome_list[complex].position = -1
                                    ribosome_list[complex].counter = 1
                        else:
                            if abs(ribosome_list[complex].position-ribosome_list[complex-1].position) > \
                            ribo_size-1: # if correct distance away from other ribosomes
                                ribosome_list[complex] = move(ribosome_list[complex]) # attempt to move
                                if ribosome_list[complex].position > gene_length: # if the ribosome leaves the ribosome it is recycled
                                    ribosome_list[complex].position = -1
                                    ribosome_list[complex].counter = 1
                            else: ribosome_list[complex].counter += 1
                    else: ribosome_list[complex].counter += 1 # if not an elongation step then increment amount of time spent in current state
                elif ribosome_list[complex].position > 0: # if away from the beginning of the mRNA
                    if step % kE == 0: # if elongation step
                        if complex == 0:
                                ribosome_list[complex] = move(ribosome_list[complex])
                                if ribosome_list[complex].position > gene_length: # if the ribosome leaves the ribosome it is recycled
                                    ribosome_list[complex].position = -1
                                    ribosome_list[complex].counter = 1
                        else:
                            if abs(ribosome_list[complex].position-ribosome_list[complex-1].position) > \
                            ribo_size-1:
                                ribosome_list[complex] = move(ribosome_list[complex])
                                if ribosome_list[complex].position > gene_length: # if the ribosome leaves the ribosome it is recycled
                                    ribosome_list[complex].position = -1
                                    ribosome_list[complex].counter = 1
                            else: ribosome_list[complex].counter += 1
                    else: ribosome_list[complex].counter += 1 # if not an elongation step then increment amount of time spent in current state
                else:
                    if step % kE == 0:
                        continue
                    else: ribosome_list[complex].counter += 1 # if the ribosome was in state -1 then increment time spent in current state
    
    return ribosome_list
In [9]:

"""
Description: Creates a list of lists containing
Inputs: ribosomes - the number of ribosomes to be run on a given mRNA
        time - the length of the simulation (sec.)
        ribo_size - the size of the ribosome object (nucleotides)
        probability - the probability that a ribosome will move forward from its current position
        kI - initiation rate
        kE - elongation rate
        n_mRNA - total number of mRNAs
Return: None
"""
def concatenate(ribosomes,time,ribo_size,prob,kI,kE,n_mRNA):
    occupancy = []
    for mRNAs in range(n_mRNA):
        occupancy.append(simulate(ribosomes,time,ribo_size,prob,kI,kE))
    create_histogram(occupancy)
​
    return
In [10]:

"""
Initialize the sliders that control length of simulation, number of ribosomes, number of mRNA, size of mRNAs, kI, kE,
    and the probability of moving to the next codon. Update the histogram when Run Interact button is pressed.
"""
​
initiation = widgets.FloatSlider(min = 0.0, max = 10.0, value = 1.0, step = 0.5, description = 'kI');
elongation = widgets.FloatSlider(min = 0.0, max = 10.0, value = 1.0, step = 0.5, description = 'kE');
#termination = widgets.FloatSlider(min = 0.0, max = 10.0, value = 1.0, step = 0.1, description = 'kT');
prob_move = widgets.FloatSlider(min = 0.00, max = 1.00, value = 0.50, step = 0.01, description = 'P(forward)');
#prob_init = widgets.FloatSlider(min = 0.00, max = 1.00, value = 0.50, step = 0.01, description = 'P(start)');
#prob_term = widgets.FloatSlider(min = 0.00, max = 1.00, value = 0.50, step = 0.01, description = 'P(end)');
sizes = widgets.IntSlider(min = 25, max = 35, value = 30, step = 1, description = 'Ribo size (nt.)');
secs = widgets.IntSlider(min = 0, max = 10000, value = 100, step = 100, description = 'time (sec.)');
ribo = widgets.IntSlider(min = 0, max = 25, value = 25, step = 5, description = 'n(ribosomes)');
num_cules = widgets.IntSlider(min = 0, max = 5000, value = 1, step = 10, description = 'n(mRNA)');
init_change = widgets.IntSlider(min = 0, max = 50, value = 0, step = 5, description = 'sec. before initiation goes to 0');
elong_change = widgets.IntSlider(min = 0, max = 50, value = 0, step = 5, description = 'sec. before elongation goes to 0');
interact_manual(concatenate,ribosomes=ribo, time=secs, ribo_size=sizes, prob=prob_move, kI=initiation, kE=elongation, n_m
