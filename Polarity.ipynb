{
 "cells": [
  {
   "cell_type": "code",
   "execution_count": 21,
   "metadata": {
    "collapsed": true
   },
   "outputs": [],
   "source": [
    "import sys\n",
    "import xlrd\n",
    "import pandas as pd\n",
    "import numpy as np\n",
    "import os\n",
    "import fnmatch \n",
    "\n",
    "INPUTS = '/Users/jiz225/Desktop/ZidLab/polarity/input' \n",
    "OUTPUTS = '/Users/jiz225/Desktop/ZidLab/polarity/outputcsv'\n",
    "def makecsv(inputpath, outputpath):\n",
    "    inputf = open(inputpath,'r')\n",
    "    outputf = open(outputpath, 'w')\n",
    "    outputf.write('Name'+ ',' + 'Orient' + ',' + 'Start' + ',' + 'End' + ',' + 'Length' + ',' + 'RelativePosition' + ',' + 'Counts' + '\\n')\n",
    "    while True:\n",
    "        line = inputf.readline()\n",
    "        if not line:\n",
    "            break\n",
    "        string = line.rstrip() \n",
    "        cells = string.split('\\t')\n",
    "        name = cells[0][:6] \n",
    "        orient = cells[0][6:7]\n",
    "        start = cells[1]\n",
    "        end = cells[2]\n",
    "        posit = abs(int(cells[3]) - int(start))\n",
    "        outputf.write(str(name) + ',' + str(orient) + ',' + str(start) + ',' + str(end) + ',' + str(length) + ',' + str(posit) + ',' + str(riboCount) + '\\n')\n",
    "    inputf.close()\n",
    "    \n",
    "inputlist = []\n",
    "outputlist = []\n",
    "inputfolder = os.listdir(INPUTS)\n",
    "extension = \"*.xls\"\n",
    "for doc in inputfolder:\n",
    "    if fnmatch.fnmatch(doc, extension):\n",
    "        #change this input and ouput file path\n",
    "        inputpath = str(\"/Users/jiz225/Desktop/ZidLab/polarity/input/\") + doc\n",
    "        namelist = doc.split('.')\n",
    "        name = namelist[0]\n",
    "        outputpath = str(\"/Users/jiz225/Desktop/ZidLab/polarity/outputcsv/\") + name + str(\".csv\")\n",
    "        inputlist.append(inputpath)\n",
    "        outputlist.append(outputpath)\n",
    "Gene_Polarity_all = []"
   ]
  },
  {
   "cell_type": "code",
   "execution_count": 22,
   "metadata": {
    "collapsed": true
   },
   "outputs": [],
   "source": [
    "import matplotlib.pyplot as plt\n",
    "%matplotlib inline\n",
    "def calculatePolarity(i, l, densityati, density):\n",
    "    normDist = (2*i - (l + 1))/(l - 1)\n",
    "    polarity = densityati*normDist/density\n",
    "    return polarity\n",
    "\n",
    "def PolarityPerGene(inputpath):\n",
    "    df1 = pd.read_csv(inputpath)\n",
    "    names = inputpath.split('.')\n",
    "    #this is the final output file\n",
    "    nameofcsv = names[0] + str(\"_polarity&gene.csv\")\n",
    "    Namelist = df1['Name'].tolist()\n",
    "    Countslist = df1['Counts'].tolist()\n",
    "    Orientlist = df1['Orient'].tolist()\n",
    "\n",
    "    startp = 0\n",
    "    for i in range (len(Namelist) - 1):\n",
    "        if Namelist[i + 1] == Namelist[i]:\n",
    "            Countslist[i + 1] += Countslist[i]\n",
    "        else:\n",
    "            for j in range (startp, i+1):\n",
    "                Countslist[j] = Countslist[i]\n",
    "            startp = i + 1\n",
    " \n",
    "    df = pd.DataFrame({'col':Countslist})\n",
    "    df1['TotalCounts'] = Countslist\n",
    "    Totalcountlist = df1['TotalCounts'].tolist()\n",
    "    Countsperilist = df1['Counts'].tolist()\n",
    "    Lengthlist = df1['Length'].tolist()\n",
    "    Positlist = df1['RelativePosition'].tolist()\n",
    "    Polaritylist = []\n",
    "    Genelist = []\n",
    "    for i in range (len(Namelist)):\n",
    "        polarityofi = calculatePolarity(Positlist[i], Lengthlist[i], Countsperilist[i], Totalcountlist[i])\n",
    "        Polaritylist.append(polarityofi)\n",
    "        newname = str(Namelist[i]) + str(Orientlist[i])\n",
    "        Genelist.append(newname)\n",
    "    df = pd.DataFrame({'col':Polaritylist})\n",
    "    df1['Polarity'] = Polaritylist\n",
    "\n",
    "    #calculate total polarity\n",
    "    Gene_Polarity = {}\n",
    "    geneP = df1['Polarity'].tolist()\n",
    "    for i in range (len(Namelist) - 1):\n",
    "        if Namelist[i + 1] == Namelist[i]:\n",
    "            geneP[i + 1] += geneP[i]\n",
    "            geneP[i] = -1000\n",
    "        else:\n",
    "            Gene_Polarity[Namelist[i]] = geneP[i]\n",
    "    df = pd.DataFrame({'col':geneP})\n",
    "    df1['PolarityPerGene'] = geneP\n",
    "    d = {'Name':Genelist, 'Totalcount': Totalcountlist, 'PolarityPerGene': geneP}\n",
    "    dfcsv = pd.DataFrame(data=d)\n",
    "    dfcsv = dfcsv.replace(-1000, np.nan)\n",
    "    dfcsv = dfcsv.dropna(how='any',axis=0)\n",
    "    \n",
    "    #df1.to_csv(nameofcsv)\n",
    "    dfcsv.to_csv(nameofcsv)\n",
    "    return Gene_Polarity\n",
    "    "
   ]
  },
  {
   "cell_type": "code",
   "execution_count": 23,
   "metadata": {},
   "outputs": [
    {
     "name": "stdout",
     "output_type": "stream",
     "text": [
      "\n",
      " Number of possible input files: 4\n",
      "\n",
      " Number of possible output csv files: 4\n"
     ]
    }
   ],
   "source": [
    "for i in range(len(inputlist) - 1, len(inputlist)):\n",
    "    makecsv(inputlist[i], outputlist[i])\n",
    "    Gene_Polarity = PolarityPerGene(outputlist[i])\n",
    "    Gene_Polarity_all.append(Gene_Polarity)\n",
    "print('\\n Number of possible input files: ' + str(len(inputlist)))\n",
    "print('\\n Number of possible output csv files: ' + str(len(outputlist)))"
   ]
  },
  {
   "cell_type": "code",
   "execution_count": null,
   "metadata": {
    "collapsed": true
   },
   "outputs": [],
   "source": []
  }
 ],
 "metadata": {
  "kernelspec": {
   "display_name": "Python 3",
   "language": "python",
   "name": "python3"
  },
  "language_info": {
   "codemirror_mode": {
    "name": "ipython",
    "version": 3
   },
   "file_extension": ".py",
   "mimetype": "text/x-python",
   "name": "python",
   "nbconvert_exporter": "python",
   "pygments_lexer": "ipython3",
   "version": "3.6.3"
  }
 },
 "nbformat": 4,
 "nbformat_minor": 2
}
