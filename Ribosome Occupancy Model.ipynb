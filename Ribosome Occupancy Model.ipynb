{
  "cells": [
    {
      "metadata": {},
      "cell_type": "markdown",
      "source": "# Tunable Ribosome Occupancy Model\n_Author: Raghav Chanchani_\n\n_For the Zid Lab at UC San Diego_\n\nDate last modified: 3/1/2019\n#### A discrete-time single probability chain to simulate ribosome distribution along a given gene using the assumptions listed below. There is no final absorption state. Ribosomes are recycled to the -1 index after they move off of the simulated mRNAs. This model does not consider binding energies of the ribosomes to sequences in the gene of interest or tRNA binding affinity. Time is simulated to 0.01sec. precision.\n\n#### Note: inefficient data structures and redundant methods written to fit specifications given by supervisor for future use and backward compatibility with existing programs\n__References:__\n1. https://book.bionumbers.org/what-is-faster-transcription-or-translation\n2. https://www.columbia.edu/~ks20/stochastic-I/stochastic-I-MCI.pdf\n3. https://github.com/gvanderheide/discreteMarkovChain\n\n__Assumptions:__\n1. Initiation when ribosome reads first codon _(AUG in given .txt file)_\n2. Elongation in-between\n3. Ribosome moves one triplet with each elongation step\n4. Ribosomes are recycled once they move off of the gene\n5. If any pair of ribosomes' positions are under appropriate distance apart, then the ribosome closer to AUG is not allowed to move until its position $\\geq$ the distance threshold from the next ribosome\n6. Termination when ribosome reads UAG, UAA, or UGA _(in next update)_\n7. Length of gene in graph and calculations is in codons, not nucleotides\n8. Position refers to the center position of the ribosome\n9. Each second is divided into 100ths to allow for more accurate reflection of kI and kE values\n10. Calculations of $\\text{time res.}\\over{kI\\text{ or }kE}$ are \"floored\" (e.g. math.floor($100\\over{kI}$)) in determining when to attempt initiation and elongation\n\n__Tunable Parameters:__\n1. Initiation rate\n2. Elongation rate\n3. Number of ribosomes on a single mRNA\n4. Number of mRNAs\n5. Probability of a ribosome moving from its current position (currently single prob.)\n6. Size of a ribosome (in nucleotides)\n7. How long the simulated run is for (sec.)\n8. Time until initiation rate becomes 0 _(occurs stepwise linearly)_\n9. Time until elongation rate becomes 0 _(occurs stepwise linearly)_"
    },
    {
      "metadata": {
        "trusted": true
      },
      "cell_type": "code",
      "source": "%matplotlib notebook\nimport numpy as np\nimport math\nimport sys\nimport os\nimport argparse\nimport matplotlib.pyplot as plt\nfrom ipywidgets import *\nfrom IPython.display import display\nplt.style.use('ggplot')",
      "execution_count": 1,
      "outputs": []
    },
    {
      "metadata": {
        "trusted": true
      },
      "cell_type": "code",
      "source": "\"\"\"\nRead in the file containing the gene of interest and determine whether or not it is the correct file type \".txt\" and\ninitialize the mRNA, occupancy, and ribosome_list lists.\n\"\"\"\nparser = argparse.ArgumentParser()\nparser.add_argument('filename')\nargs = parser.parse_args('Pab1.txt'.split())\nribosome_list = [] # storage for all ribosomes in a single mRNA\ngene_length = 0\ncodon_size = 3\nres = 100 # time resolution (the number of divisions made of a second)\nmRNA = []\noccupancy = [] # storage for all ribosomes in all mRNAs\nfname = args.filename\nif not fname.lower().endswith(('.txt')):\n    parser.error(\"Input file must be a .txt file\")",
      "execution_count": 2,
      "outputs": []
    },
    {
      "metadata": {
        "trusted": true
      },
      "cell_type": "code",
      "source": "\"\"\"\nDescription: Creates the ribosome object which stores the ribosome's position and how long\n    it has been at its current position. The counter is initially set to zero.\n\"\"\"\nclass ribosome:\n    \"\"\"\n    Description: Creates a new ribosome object with initial position -1 and counter 0.\n    Inputs: None\n    Return: None\n    \"\"\"\n    def __init__(self):\n        self.position = -1\n        self.counter = 0",
      "execution_count": 3,
      "outputs": []
    },
    {
      "metadata": {
        "trusted": true
      },
      "cell_type": "code",
      "source": "\"\"\"\nDescription: Counts number of nucleotides in the gene of interest and creates an \"mRNA\" list of the same size\n    that will be used to note ribosome positions on.\nInputs: gene_file - a .txt file that contains the mRNA base pairs of a given gene.\nReturn: gene_length - the length of the gene passed in, in nucleotides\n        mRNA - a list corresponding with the length of the (gene_file in codons)\n\"\"\"\ndef read_gene(gene_file):\n    temp_list = []\n    mRNA = []\n    \n    try:\n        with open(gene_file) as inputFileHandle:\n            line_list = [lines.split() for lines in inputFileHandle]  # extract lines\n            while line_list:\n                temp_list.extend(line_list.pop(0))\n                while temp_list:\n                    if ('>') in temp_list[0]:\n                        target = temp_list[0].strip('>')\n                    mRNA.extend(temp_list.pop(0))\n            gene_length = int(len(mRNA)/codon_size)\n            return inputFileHandle.read(), gene_length, mRNA, target\n    except IOError:\n        sys.stderr.write(\"read_gene - Error: Could not open {}\\n\".format(gene_file))\n        sys.exit(-1)\n    ",
      "execution_count": 4,
      "outputs": []
    },
    {
      "metadata": {
        "trusted": true
      },
      "cell_type": "code",
      "source": "\"\"\"\nDescription: Given the probability that the ribosome will move, the ribosome is evaluated to move\n    or remain in its current position.\nInputs: ribosome - ribosome object trying to move\nReturn: ribosome - same ribosome object with updated position and counter\n\"\"\"\ndef move(ribosome, gene_length, probability):\n    position = ribosome.position\n    \n    if ribosome.position <= gene_length:\n        moves = np.random.random() <= probability\n        if moves:\n            ribosome.position = position + 1\n            ribosome.counter = 1\n        else:\n            ribosome.counter += 1\n    return ribosome",
      "execution_count": 5,
      "outputs": []
    },
    {
      "metadata": {
        "trusted": true
      },
      "cell_type": "code",
      "source": "\"\"\"\nDescription: Graphs the ribosome occupancy of codons as a histogram with x-axis being the position (in codons)\n    and the y-axis being occupancy as a fraction of the total number of ribosomes simulated across all mRNA\nInputs: ribos - the list containing all ribosomes\nReturn: None\n\"\"\"\ndef create_histogram(all_cules, fname, gene_length, res, target):\n    pos_array = [ribo.position for sim in all_cules for ribo in sim]\n    ax = plt.gca()\n    ax.set_title('Ribosome Frequency ' + target)\n    ax.set_yscale('log')\n    hist = plt.hist(pos_array, bins=range(0,gene_length + 1,5),density=False)\n    plt.xlabel('Distance from AUG (codons)')\n    plt.ylabel('Ribosome Frequency')\n    plt.show()\n    \n    return",
      "execution_count": 6,
      "outputs": []
    },
    {
      "metadata": {
        "trusted": true
      },
      "cell_type": "code",
      "source": "\"\"\"\nDescription: Increases a given variable based on slider input\nInputs: start - initial variable value\n        end - final variable value\n        curr - current variable value\n        sldr - value set in slider by user\n        default - value set to instead of 0 to prevent divide by zero error\nReturn: curr - value of variable after increase\n\"\"\"\ndef increase(start, end, curr, sldr, default):\n    run = abs(start - end)\n    \n    if run == 0:\n        if curr == start:\n            curr = sldr\n    else:\n        slp = sldr / run\n        # increase from \"0\" to slider\n        if curr >= start and curr <= end:\n            if curr == end:\n                curr = rise\n            else:\n                curr = ((slp * curr) + (-slp * start))\n                if curr == 0:\n                    curr = default\n\n    return curr",
      "execution_count": 2,
      "outputs": []
    },
    {
      "metadata": {
        "trusted": true
      },
      "cell_type": "code",
      "source": "\"\"\"\nDescription: Decreases a given variable based on slider input\nInputs: start - initial variable value\n        end - final variable value\n        curr - current variable value\n        sldr - value set in slider by user\n        default - value set to instead of 0 to prevent divide by zero error\nReturn: curr - value of variable after decrease\n\"\"\"\ndef decrease(start, end, curr, sldr, default):\n    run = abs(start - end)\n    \n    if run == 0:\n        if curr == start:\n            curr = default\n    else:\n        slp = sldr / run\n        # decrease from slider to \"effective 0\"\n        if curr >= start and curr <= end:\n            if curr == end:\n                curr = default\n            else:\n                rate = ((slp * curr) + (-slp * end))\n                if curr == 0:\n                    curr = default\n    \n    return curr",
      "execution_count": 1,
      "outputs": []
    },
    {
      "metadata": {
        "trusted": true
      },
      "cell_type": "code",
      "source": "\"\"\"\nDescription: Simulates ribosome movement in the elongation and initiation timestep condition\nInputs: ribosome list - ribosomes to be run on a given mRNA\n        complex - ribosome index variable\n        ribo_size - the size of the ribosome object (nucleotides)\n        prob - the probability that a ribosome will move forward from its current position\n        gene_length - length of the gene of interest\n        n_ribo - secondary ribosome index variable, used as a flag to determine valid transition\nReturn: ribosome_list - list containing all ribosome objects corresponding to a given mRNA\n\"\"\"\ndef init_and_elo(len(ribosome_list),ribosome_list, complex, n_ribo, gene_length, prob, ribo_size):\n    for ribo in ribosome_list:\n        if ribosome_list.index(ribo) == complex:\n            n_ribo += 1\n        elif ribo.position > ribosome_list[complex].position:\n            if ribo.position - ribosome_list[complex].position > ribo_size: # can move\n                n_ribo += 1\n            else: \n                break\n        elif ribo.position < ribosome_list[complex].position:\n            n_ribo += 1\n        elif ribo.position == -1:\n            n_ribo += 1\n        else:\n            n_ribo += 1\n    if n_ribo == len(ribosome_list): # the last simulated ribosome\n        ribosome_list[complex] = move(ribosome_list[complex], gene_length, prob)\n        if ribosome_list[complex].position > gene_length:\n            ribosome_list[complex].position = -1\n            ribosome_list[complex].counter = 1\n    else: ribosome_list[complex].counter += 1\n\n    return ribosome_list",
      "execution_count": null,
      "outputs": []
    },
    {
      "metadata": {
        "trusted": true
      },
      "cell_type": "code",
      "source": "\"\"\"\nDescription: Simulates ribosome movement in the initiation only timestep condition\nInputs: ribosome list - ribosomes to be run on a given mRNA\n        complex - ribosome index variable\n        ribo_size - the size of the ribosome object (nucleotides)\n        prob - the probability that a ribosome will move forward from its current position\n        gene_length - length of the gene of interest\n        n_ribo - secondary ribosome index variable, used as a flag to determine valid transition\nReturn: ribosome_list - list containing all ribosome objects corresponding to a given mRNA\n\"\"\"\ndef init_only(len(ribosome_list), ribosome_list, complex, n_ribo, gene_length, prob, ribo_size):\n    if ribosome_list[complex].position == -1:\n        for ribo in ribosome_list:\n            if ribosome_list.index(ribo) == complex:\n                n_ribo += 1\n            elif ribo.position > ribosome_list[complex].position:\n                if ribo.position - ribosome_list[complex].position > ribo_size: # can move\n                    n_ribo += 1\n                else: \n                    break\n            elif ribo.position < ribosome_list[complex].position:\n                n_ribo += 1\n            elif ribo.position == -1:\n                n_ribo += 1\n            else:\n                n_ribo += 1\n        if n_ribo == len(ribosome_list):\n            ribosome_list[complex] = move(ribosome_list[complex], gene_length, prob)\n            if ribosome_list[complex].position > gene_length:\n                ribosome_list[complex].position = -1\n                ribosome_list[complex].counter = 1\n            else: ribosome_list[complex].counter += 1\n    else: ribosome_list[complex].counter += 1\n\n    return ribosome_list",
      "execution_count": null,
      "outputs": []
    },
    {
      "metadata": {
        "trusted": true
      },
      "cell_type": "code",
      "source": "\"\"\"\nDescription: Simulates ribosome movement in the no initiation timestep condition\nInputs: ribosome list - ribosomes to be run on a given mRNA\n        complex - ribosome index variable\n        ribo_size - the size of the ribosome object (nucleotides)\n        prob - the probability that a ribosome will move forward from its current position\n        gene_length - length of the gene of interest\n        n_ribo - secondary ribosome index variable, used as a flag to determine valid transition\nReturn: ribosome_list - list containing all ribosome objects corresponding to a given mRNA\n\"\"\"\ndef no_init(len(ribosome_list), ribosome_list, complex, n_ribo, gene_length, prob, ribo_size):\n    if ribosome_list[complex].position == -1:\n        ribosome_list[complex].counter += 1\n    else:\n        for ribo in ribosome_list:\n            if ribosome_list.index(ribo) == complex:\n                n_ribo += 1\n            elif ribo.position > ribosome_list[complex].position:\n                if ribo.position - ribosome_list[complex].position > ribo_size: # can move\n                    n_ribo += 1\n                else: \n                    break\n            elif ribo.position < ribosome_list[complex].position:\n                n_ribo += 1\n            elif ribo.position == -1:\n                n_ribo += 1\n            else:\n                n_ribo += 1\n        if n_ribo == len(ribosome_list):\n            ribosome_list[complex] = move(ribosome_list[complex], gene_length, prob)\n            if ribosome_list[complex].position > gene_length:\n                ribosome_list[complex].position = -1\n                ribosome_list[complex].counter = 1\n        else: ribosome_list[complex].counter += 1\n\n    return ribosome_list",
      "execution_count": null,
      "outputs": []
    },
    {
      "metadata": {
        "trusted": true
      },
      "cell_type": "code",
      "source": "\"\"\"\nDescription: Determines whether or not the ribosomes on the simulated mRNA will collide, which ribosome is allowed to\n    move, and updates the positions and number of timesteps present at a given location of all ribosomes corresponding\n    to a simulated mRNA.\nInputs: ribosomes - the number of ribosomes to be run on a given mRNA\n        time - the length of the simulation (sec.)\n        ribo_size - the size of the ribosome object (nucleotides)\n        prob - the probability that a ribosome will move forward from its current position\n        kI - initiation rate\n        kE - elongation rate\n        t_st_init - start initiation timestep\n        t_st_elo - start elongation timestep\n        t_crit_st_init - timestep to reach slider initation rate\n        t_crit_st_elo - timestep to reach slider elongation rate\n        t_stp_init - timestep when initiation rate reaches effective 0\n        t_stp_elo - timestep when elongation rate reaches effective 0\n        t_crit_spt_init - timestep to being decrease of initation rate\n        t_crit_stp_elo - timestep to being decrease of initation rate\n        gene_length - length of gene of interest\n        res - time resolution (1/x sec.)\n        codon_size - size of codon in nt.\nReturn: ribosome_list - list containing all ribosome objects corresponding to a given mRNA\n\"\"\"\ndef simulate(ribosomes, time, ribo_size, prob, kI, kE, t_st_init, t_st_elo,\n            t_crit_st_init, t_crit_st_elo, t_stp_init, t_stp_elo, t_crit_stp_init,\n            t_crit_stp_elo, gene_length, res, codon_size):\n\n    dead = res ** -codon_size\n    ribo_size = math.floor(ribo_size / codon_size)\n    \n    if kE == 0:\n        slider_kE = dead\n    else:\n        slider_kE = kE\n    kE = dead\n    if kI == 0:\n        slider_kI = dead\n    else:\n        slider_kI = kI\n    kI = dead\n    \n    init_fall = -slider_kI\n    elo_fall = -slider_kE\n    init_st_run = t_crit_st_init - t_st_init\n    init_stp_run = t_crit_stp_init - t_stp_init\n    elo_stp_run = t_crit_stp_elo - t_stp_elo\n    elo_st_run = t_crit_st_elo - t_st_elo\n\n    # list of user-defined number of ribosomes\n    ribosome_list = [ribosome() for complex in range(ribosomes)]\n    flag, gene_length, mRNA, target = read_gene(args.filename)\n    # splits the simulation into 0.01sec. resolution\n    discrete_time = [t for t in range(time * res)]\n    for t_step in discrete_time:\n        # Increase initiation rate starting at t_st_init until t_crit_init to kI\n        kI = increase(init_st_run, t_step, slider_kI, dead)\n        # Decrease initiation rate starting at t_stp_init until t_crit_stp_init to 0\n        kI = decrease(init_stp_run, t_step, init_fall, dead)\n        # Increase elongation rate starting at t_st_elo until t_crit_elo to kE\n        kE = increase(elo_st_run, t_step, slider_kE, dead)\n        # Decrease elongation rate starting at t_stp_init until t_crit_stp_init to 0\n        kE = decrease(elo_stp_run, t_step, elo_fall, dead)\n\n        # each ribosome...\n        for complex in range(len(ribosome_list)):\n            # compared ribosome counter variable\n            n_ribo = 0\n            step = ribosome_list[complex].counter\n            if t_step % int(res / kI) == 0: # initiation timestep\n                if step % int(res / kE) == 0: # elongation timestep\n                    ribosome_list = init_and_elo(len(ribosome_list),ribosome_list, complex, n_ribo, gene_length, prob, ribo_size)\n                # if only initiation timestep\n                else:\n                    ribosome_list = init_only(len(ribosome_list), ribosome_list, complex, n_ribo, gene_length, prob, ribo_size)\n            # if not initiation timestep\n            else:\n                # if elongation timestep but not initiation timestep\n                if step % int(res / kE) == 0:\n                    ribosome_list = no_init(len(ribosome_list), ribosome_list, complex,n_ribo, gene_length, prob, ribo_size)\n                # if not initiation nor elongation timestep\n                else:\n                    ribosome_list[complex].counter += 1\n    return ribosome_list, target",
      "execution_count": 9,
      "outputs": []
    },
    {
      "metadata": {
        "trusted": true
      },
      "cell_type": "code",
      "source": "\"\"\"\nDescription: Creates a list of lists containing the states of ribosomes at each time step\nInputs: ribosomes - the number of ribosomes to be run on a given mRNA\n        time - the length of the simulation (sec.)\n        ribo_size - the size of the ribosome object (nucleotides)\n        prob - the probability that a ribosome will move forward from its current position\n        kI - initiation rate\n        kE - elongation rate\n        t_st_init - start initiation timestep\n        t_st_elo - start elongation timestep\n        t_crit_st_init - timestep to reach slider initation rate\n        t_crit_st_elo - timestep to reach slider elongation rate\n        t_stp_init - timestep when initiation rate reaches effective 0\n        t_stp_elo - timestep when elongation rate reaches effective 0\n        t_crit_spt_init - timestep to being decrease of initation rate\n        t_crit_stp_elo - timestep to being decrease of initation rate\n        gene_length - length of gene of interest\n        codon_size - size of codon in nt.\nReturn: None\n\"\"\"\ndef concatenate(ribosomes, time, ribo_size, n_mRNA, prob, kI, kE, t_st_init, t_st_elo,\n               t_crit_st_init, t_crit_st_elo, t_stp_init, t_stp_elo, t_crit_stp_init, t_crit_stp_elo):\n    occupancy = []\n    \n    for mRNAs in range(n_mRNA):\n        rib_list, target = simulate(ribosomes, time,\n                                  ribo_size, prob, kI, kE,\n                                  t_st_init, t_st_elo,\n                                  t_crit_st_init, t_crit_st_elo,\n                                  t_stp_init, t_stp_elo,\n                                  t_crit_stp_init, t_crit_stp_elo,\n                                  gene_length, res, codon_size)\n    occupancy.append(rib_list)\n    create_histogram(occupancy, fname, gene_length, res, target)\n    print(\"gene length: {} codons\".format(gene_length))\n    \n    return",
      "execution_count": 10,
      "outputs": []
    },
    {
      "metadata": {
        "scrolled": false,
        "trusted": true
      },
      "cell_type": "code",
      "source": "\"\"\"\nInitialize the sliders that control length of simulation, number of ribosomes, number of mRNA, size of mRNAs, kI, kE,\n    and the probability of moving to the next codon. Update the histogram when Run Interact button is pressed.\n\"\"\"\ninitiation = widgets.IntSlider(min = 0, max = 10, value = 1, step = 1, description = 'kI - try/sec.');\ninit_stop_time = widgets.IntSlider(min = 0, max = 90001, value = 50, step = 1, description = 'sec. to kI = 0');\nelongation = widgets.IntSlider(min = 0, max = 20, value = 20, step = 1, description = 'kE - try/sec.');\nelo_stop_time = widgets.IntSlider(min = 0, max = 90001, value = 50, step = 1, description = 'sec. to kE = 0');\ninit_start_time = widgets.IntSlider(min = 0, max = 90001, value = 50, step = 1, description = 'sec. delay kI');\nelo_start_time = widgets.IntSlider(min = 0, max = 90001, value = 50, step = 1, description = 'sec. delay kE');\ninit_crit_inc_time = widgets.IntSlider(min = 0, max = 90001, value = 50, step = 1, description = 'sec. until kI');\nelo_crit_inc_time = widgets.IntSlider(min = 0, max = 90001, value = 50, step = 1, description = 'sec. until kE');\nprob_move = widgets.FloatSlider(min = 0.00, max = 1.00, value = 0.50, step = 0.01, description = 'P(forward)');\nsizes = widgets.IntSlider(min = 25, max = 35, value = 30, step = 1, description = 'Ribo size (nt.)');\nsecs = widgets.IntSlider(min = 0, max = 90000, value = 100, step = 10, description = 'time (sec.)');\nribo = widgets.IntSlider(min = 0, max = 25, value = 25, step = 1, description = 'n(ribosomes)');\nnum_cules = widgets.IntSlider(min = 0, max = 5000, value = 10, step = 1, description = 'n(mRNA)');\ninit_decay_time = widgets.IntSlider(min = 0, max = 90001, value = 20, step = 1, description = 'kI start decay');\nelo_decay_time = widgets.IntSlider(min = 0, max = 90001, value = 20, step = 1, description = 'kE start decay');\ninteract_manual(concatenate,\n                ribosomes = ribo,\n                time = secs,\n                ribo_size = sizes,\n                n_mRNA = num_cules,\n                prob = prob_move,\n                kI = initiation,\n                kE = elongation,\n                t_st_init = init_start_time,\n                t_st_elo = elo_start_time,\n                t_crit_st_init = init_crit_inc_time,\n                t_crit_st_elo = elo_crit_inc_time,\n                t_stp_init = init_decay_time,\n                t_stp_elo = elo_decay_time,\n                t_crit_stp_init = init_stop_time,\n                t_crit_stp_elo = elo_stop_time);",
      "execution_count": 11,
      "outputs": [
        {
          "output_type": "display_data",
          "data": {
            "application/vnd.jupyter.widget-view+json": {
              "model_id": "d2883e64b05d4f7ebcbc9a4f8dbafbb9",
              "version_minor": 0,
              "version_major": 2
            },
            "text/plain": "interactive(children=(IntSlider(value=25, description='n(ribosomes)', max=25), IntSlider(value=100, descriptio…"
          },
          "metadata": {}
        }
      ]
    },
    {
      "metadata": {
        "trusted": true
      },
      "cell_type": "code",
      "source": "",
      "execution_count": null,
      "outputs": []
    }
  ],
  "metadata": {
    "kernelspec": {
      "name": "python3",
      "display_name": "Python 3",
      "language": "python"
    },
    "language_info": {
      "mimetype": "text/x-python",
      "nbconvert_exporter": "python",
      "name": "python",
      "pygments_lexer": "ipython3",
      "version": "3.5.4",
      "file_extension": ".py",
      "codemirror_mode": {
        "version": 3,
        "name": "ipython"
      }
    }
  },
  "nbformat": 4,
  "nbformat_minor": 2
}
