{
 "cells": [
  {
   "cell_type": "code",
   "execution_count": 18,
   "metadata": {
    "collapsed": true,
    "scrolled": true
   },
   "outputs": [],
   "source": [
    "   #Authors: Raghav Chanchani, Jingxiao \n",
    "   #Description: A pipeline to streamline the process of analyzing next-gen sequencing through an organized\n",
    "   #             file system and easy to understand workflow.\n",
    "    \n",
    "import os\n",
    "import numpy as np\n",
    "import pandas as pd\n",
    "import sys\n",
    "import subprocess"
   ]
  },
  {
   "cell_type": "code",
   "execution_count": 19,
   "metadata": {
    "collapsed": true,
    "scrolled": true
   },
   "outputs": [],
   "source": [
    "# Set locations of various files and folders used in pipeline\n",
    "# Path of the reference genome\n",
    "os.environ['GENOME'] = '~/Bowtie/bowtie/Indexes/e_coli.1.ebwt'\n",
    "# Directory to save aligned map files\n",
    "os.environ['MAPS'] = '~/Bowtie/bowtie/Maps'\n",
    "# Directory to save MochiView files\n",
    "os.environ['MOCHI'] = '~/Bowtie/bowtie/MochiView'\n",
    "# Directories to take initial inputs\n",
    "os.environ['INPUT'] = '~/Bowtie/bowtie/Inputs'\n",
    "# Directory to save aligned sorted read counts\n",
    "os.environ['ALIGNEDSORTED'] = '~/Bowtie/bowtie/AlignedSortedCount'\n",
    "# Directory to save features\n",
    "os.environ['FEATURE'] = '~/Bowtie/bowtie/Feature'\n",
    "# Directory to save Counts\n",
    "os.environ['COUNT'] = '~/Bowtie/bowtie/Count'"
   ]
  },
  {
   "cell_type": "code",
   "execution_count": 27,
   "metadata": {},
   "outputs": [
    {
     "ename": "SyntaxError",
     "evalue": "invalid syntax (<ipython-input-27-ad221a81c93a>, line 5)",
     "output_type": "error",
     "traceback": [
      "\u001b[0;36m  File \u001b[0;32m\"<ipython-input-27-ad221a81c93a>\"\u001b[0;36m, line \u001b[0;32m5\u001b[0m\n\u001b[0;31m    path = $INPUT\u001b[0m\n\u001b[0m           ^\u001b[0m\n\u001b[0;31mSyntaxError\u001b[0m\u001b[0;31m:\u001b[0m invalid syntax\n"
     ]
    }
   ],
   "source": [
    "# Check the status of the fastq files\n",
    "!ls -lh $INPUT/*.fastq # Or InputOp2\n",
    "\n",
    "# Assign fastq files to a dictionary\n",
    "#path = $INPUT"
   ]
  },
  {
   "cell_type": "code",
   "execution_count": 51,
   "metadata": {},
   "outputs": [
    {
     "ename": "SyntaxError",
     "evalue": "invalid syntax (<ipython-input-51-76ee1504a75c>, line 22)",
     "output_type": "error",
     "traceback": [
      "\u001b[0;36m  File \u001b[0;32m\"<ipython-input-51-76ee1504a75c>\"\u001b[0;36m, line \u001b[0;32m22\u001b[0m\n\u001b[0;31m    unaligned = subprocess.Popen(bowtie -a --best --strata /home/rchancha/Bowtie/bowtie/Indexes/rDNA trimmedFile alignerdRNA.fq --un unrna.fq, stdout=PIPE)\u001b[0m\n\u001b[0m                                                                                                               ^\u001b[0m\n\u001b[0;31mSyntaxError\u001b[0m\u001b[0;31m:\u001b[0m invalid syntax\n"
     ]
    }
   ],
   "source": [
    "fQInputList = {}\n",
    "txtInputList = {}   \n",
    "\n",
    "for doc in '~/Bowtie/bowtie/Inputs':\n",
    "    if doc.endswith(\".fastq\"):\n",
    "        fQInputList.append(doc)\n",
    "    elif doc.endswith(\".txt\"):\n",
    "        txtInputList.append(doc)\n",
    "        \n",
    "# Sort files by integer value in name\n",
    "OrderedDict(sorted(txtInputList.items(),(key = lambda f: int(filter(str.isdigit, f)))\n",
    "\n",
    "print(\"Which file number would you like to access?\", sys.argv[1])\n",
    "inputFile = inputList[sys.argv[1]]\n",
    "inputPath = os.path1.abspath(inputFile)\n",
    "\n",
    "# Run polyA trim functions on a chosen file from the matrix\n",
    "trimmedFile = trimPolyA(inputPath)\n",
    "print(trimmedFile)\n",
    "\n",
    "# Generate unaligned .fastq\n",
    "unaligned = subprocess.Popen(bowtie -a --best --strata /home/rchancha/Bowtie/bowtie/Indexes/rDNA trimmedFile alignerdRNA.fq --un unrna.fq, stdout=PIPE)\n",
    "unaligned.communicate()[0]\n",
    "# Use unaligned .fastq and genome to align .fastq\n",
    "aligned = subprocess.Popen(bowtie -m 1 --best --strata $GENOME ,stdin=unaligned.stdout,stdout=$MAPS)\n",
    "aligned.communicate()[0]\n",
    "unaligned.stdout.close()\n",
    "\n",
    "# Make .map storage if does not exist, then save new .map \n",
    "!mkdir -p $MAPS\n",
    "!cp aligned.stdout $MAPS\n"
   ]
  },
  {
   "cell_type": "code",
   "execution_count": 48,
   "metadata": {},
   "outputs": [
    {
     "ename": "NameError",
     "evalue": "name 'alignedSortCount' is not defined",
     "output_type": "error",
     "traceback": [
      "\u001b[0;31m---------------------------------------------------------------------------\u001b[0m",
      "\u001b[0;31mNameError\u001b[0m                                 Traceback (most recent call last)",
      "\u001b[0;32m<ipython-input-48-eb4d495fd170>\u001b[0m in \u001b[0;36m<module>\u001b[0;34m()\u001b[0m\n\u001b[1;32m      1\u001b[0m \u001b[0;31m# Save sorted and aligned read counts\u001b[0m\u001b[0;34m\u001b[0m\u001b[0;34m\u001b[0m\u001b[0m\n\u001b[0;32m----> 2\u001b[0;31m \u001b[0malignedSortCount\u001b[0m \u001b[0;34m=\u001b[0m \u001b[0msubprocess\u001b[0m\u001b[0;34m.\u001b[0m\u001b[0mPopen\u001b[0m\u001b[0;34m(\u001b[0m\u001b[0malignedSortCount\u001b[0m\u001b[0;34m.\u001b[0m\u001b[0mpy\u001b[0m\u001b[0;34m,\u001b[0m \u001b[0mstdin\u001b[0m\u001b[0;34m=\u001b[0m\u001b[0maligned\u001b[0m\u001b[0;34m.\u001b[0m\u001b[0mstdout\u001b[0m\u001b[0;34m,\u001b[0m \u001b[0mstdout\u001b[0m\u001b[0;34m=\u001b[0m\u001b[0mPIPE\u001b[0m\u001b[0;34m)\u001b[0m\u001b[0;34m\u001b[0m\u001b[0m\n\u001b[0m\u001b[1;32m      3\u001b[0m \u001b[0malignedSortCount\u001b[0m\u001b[0;34m.\u001b[0m\u001b[0mcommunicate\u001b[0m\u001b[0;34m(\u001b[0m\u001b[0;34m)\u001b[0m\u001b[0;34m[\u001b[0m\u001b[0;36m0\u001b[0m\u001b[0;34m]\u001b[0m\u001b[0;34m\u001b[0m\u001b[0m\n\u001b[1;32m      4\u001b[0m \u001b[0mget_ipython\u001b[0m\u001b[0;34m(\u001b[0m\u001b[0;34m)\u001b[0m\u001b[0;34m.\u001b[0m\u001b[0msystem\u001b[0m\u001b[0;34m(\u001b[0m\u001b[0;34m'mkdir -p $ALIGNEDSORTED'\u001b[0m\u001b[0;34m)\u001b[0m\u001b[0;34m\u001b[0m\u001b[0m\n\u001b[1;32m      5\u001b[0m \u001b[0mget_ipython\u001b[0m\u001b[0;34m(\u001b[0m\u001b[0;34m)\u001b[0m\u001b[0;34m.\u001b[0m\u001b[0msystem\u001b[0m\u001b[0;34m(\u001b[0m\u001b[0;34m'cp alignedSortCount.stdout $ALIGNEDSORTED'\u001b[0m\u001b[0;34m)\u001b[0m\u001b[0;34m\u001b[0m\u001b[0m\n",
      "\u001b[0;31mNameError\u001b[0m: name 'alignedSortCount' is not defined"
     ]
    }
   ],
   "source": [
    "# Save sorted and aligned read counts\n",
    "alignedSortCount = subprocess.Popen(alignedSortCount.py, stdin=aligned.stdout, stdout=PIPE)\n",
    "alignedSortCount.communicate()[0]\n",
    "!mkdir -p $ALIGNEDSORTED\n",
    "!cp alignedSortCount.stdout $ALIGNEDSORTED\n"
   ]
  },
  {
   "cell_type": "code",
   "execution_count": null,
   "metadata": {
    "collapsed": true
   },
   "outputs": [],
   "source": [
    "# Retrieve and save MochiView output\n",
    "mochi = subprocess.Popen(MochiView.py, stdin=aligned.stdout, stdout=PIPE)\n",
    "mochi.communicate()[0]\n",
    "!mkdir -p $MOCHI\n",
    "!cp mochi.stdout $MOCHI\n",
    "alignedSortCount.stdout.close()\n",
    "mochi.stdout.close()"
   ]
  },
  {
   "cell_type": "code",
   "execution_count": null,
   "metadata": {
    "collapsed": true
   },
   "outputs": [],
   "source": [
    "# Generate Feat.txt to see gene features\n",
    "geneFeat = subprocess.Popen(features.py, stdin=aligned.stdout, stdout=PIPE)\n",
    "geneFeat.communicate()[0]\n",
    "!mkdir -p $FEATURE\n",
    "!cp geneFeat.stdout $FEATURE\n",
    "\n",
    "# Sort then generate count file to analyze sequences\n",
    "sortFeat = subprocess.Popen(sortFiles.py, stdin=geneFeat.stdout, stdout=PIPE)\n",
    "sortFeat.communicate()[0]\n",
    "count = subprocess.Popen(countSorted.py, stdin=sortFeat.stdout, stdin=PIPE)\n",
    "count.communicate()[0]\n",
    "!mkdir -p $COUNT\n",
    "!cp count.stdout $COUNT\n",
    "aligned.stdout.close()\n",
    "geneFeat.stdout.close()\n",
    "sort.stdout.close()\n",
    "count.stdout.close()"
   ]
  }
 ],
 "metadata": {
  "kernelspec": {
   "display_name": "Python 3",
   "language": "python",
   "name": "python3"
  },
  "language_info": {
   "codemirror_mode": {
    "name": "ipython",
    "version": 3
   },
   "file_extension": ".py",
   "mimetype": "text/x-python",
   "name": "python",
   "nbconvert_exporter": "python",
   "pygments_lexer": "ipython3",
   "version": "3.6.1"
  }
 },
 "nbformat": 4,
 "nbformat_minor": 2
}
