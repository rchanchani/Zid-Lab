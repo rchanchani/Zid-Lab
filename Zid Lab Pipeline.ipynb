{
 "cells": [
  {
   "cell_type": "code",
   "execution_count": 1,
   "metadata": {},
   "outputs": [
    {
     "ename": "SyntaxError",
     "evalue": "invalid syntax (<ipython-input-1-90de729ab38d>, line 1)",
     "output_type": "error",
     "traceback": [
      "\u001b[0;36m  File \u001b[0;32m\"<ipython-input-1-90de729ab38d>\"\u001b[0;36m, line \u001b[0;32m1\u001b[0m\n\u001b[0;31m    *(Authors:)\u001b[0m\n\u001b[0m             ^\u001b[0m\n\u001b[0;31mSyntaxError\u001b[0m\u001b[0;31m:\u001b[0m invalid syntax\n"
     ]
    }
   ],
   "source": [
    "   #Authors: Raghav Chanchani, Jingxiao \n",
    "   #Description: A pipeline to streamline the process of analyzing next-gen sequencing through an organized\n",
    "   #             file system and easy to understand workflow.\n",
    "   #References:\n",
    "\n",
    "import os\n",
    "import numpy as np\n",
    "import pandas as pd\n",
    "import sys\n",
    "import subprocess"
   ]
  },
  {
   "cell_type": "code",
   "execution_count": 2,
   "metadata": {},
   "outputs": [
    {
     "ename": "SyntaxError",
     "evalue": "invalid syntax (<ipython-input-2-c86c189fa139>, line 2)",
     "output_type": "error",
     "traceback": [
      "\u001b[0;36m  File \u001b[0;32m\"<ipython-input-2-c86c189fa139>\"\u001b[0;36m, line \u001b[0;32m2\u001b[0m\n\u001b[0;31m    os.environ['SDSC'] = # Supercomputer Center server\u001b[0m\n\u001b[0m                                                      ^\u001b[0m\n\u001b[0;31mSyntaxError\u001b[0m\u001b[0;31m:\u001b[0m invalid syntax\n"
     ]
    }
   ],
   "source": [
    "# Set locations of various files and folders used in pipeline\n",
    "os.environ['SDSCURL'] = # Supercomputer Center server\n",
    "# Path of the reference genome\n",
    "os.environ['GENOME'] = '~/Bowtie/bowtie-1.1.2/indexes/e_coli.1.ebwt'\n",
    "# Directory to save aligned map files\n",
    "os.environ['MAPS'] = '~/Bowtie/bowtie-1.1.2/Maps'\n",
    "# Directory to save MochiView files\n",
    "os.environ['MOCHI'] = '~/Bowtie/bowtie-1.1.2/MochiView'\n",
    "# Directories to take initial inputs\n",
    "os.environ['INPUTOP1'] = '~/Bowtie/bowtie-1.1.2/Zidfastq'\n",
    "os.environ['INPUTOP2'] = '/media/zidlab/f2bc6598-ae15-4f63-a4e6-a31bbc5b8b3f/lost+found/Hanyi/BY&EY'"
   ]
  },
  {
   "cell_type": "code",
   "execution_count": 3,
   "metadata": {},
   "outputs": [
    {
     "name": "stdout",
     "output_type": "stream",
     "text": [
      "ls: /*.fastq: No such file or directory\r\n"
     ]
    }
   ],
   "source": [
    "# Check the status of the fastq files\n",
    "!ls -lh $InputOp1/*.fastq # Or InputOp2\n",
    "\n",
    "# Assign fastq files to a dictionary\n",
    "#path1 = either InputOp1 or InputOp2\n",
    "#path2 = Genome"
   ]
  },
  {
   "cell_type": "code",
   "execution_count": 2,
   "metadata": {},
   "outputs": [
    {
     "ename": "SyntaxError",
     "evalue": "invalid syntax (<ipython-input-2-b4f7dc87299d>, line 14)",
     "output_type": "error",
     "traceback": [
      "\u001b[0;36m  File \u001b[0;32m\"<ipython-input-2-b4f7dc87299d>\"\u001b[0;36m, line \u001b[0;32m14\u001b[0m\n\u001b[0;31m    unaligned = subprocess.Popen(bowtie -a --best --strata indexes/rDNA trimmedFile alignerdRNA.fq --un unrna.fq, stdout=PIPE)\u001b[0m\n\u001b[0m                                                                 ^\u001b[0m\n\u001b[0;31mSyntaxError\u001b[0m\u001b[0;31m:\u001b[0m invalid syntax\n"
     ]
    }
   ],
   "source": [
    "inputList = {}\n",
    "for file in [doc for doc in path\n",
    "if doc.endswith(\".fastq\")]:\n",
    "        inputList.append(doc)\n",
    "\n",
    "print(\"Which file number would you like to access?\", sys.argv[1])\n",
    "inputFile = inputList[sys.argv[1]]\n",
    "inputPath = os.path1.abspath(inputFile)\n",
    "\n",
    "# Run polyA trim functions on a chosen file from the matrix\n",
    "trimmedFile = trimPolyA(inputPath)\n",
    "\n",
    "# Generate unaligned .fastq\n",
    "unaligned = subprocess.Popen(bowtie -a --best --strata indexes/rDNA trimmedFile alignerdRNA.fq --un unrna.fq, stdout=PIPE)\n",
    "# Use unaligned .fastq and genome to align .fastq\n",
    "aligned = subprocess.Popen(bowtie -m 1 --best --strata $GENOME ,stdin=unaligned.stdout,stdout=$MAPS)\n",
    "unaligned.stdout.close()\n",
    "\n",
    "# Make .map storage if does not exist, then save new .map \n",
    "!mkdir -p $MAPS\n",
    "cp aligned.stdout $MAPS\n"
   ]
  },
  {
   "cell_type": "code",
   "execution_count": null,
   "metadata": {
    "collapsed": true
   },
   "outputs": [],
   "source": [
    "# Retrieve and save MochiView\n",
    "mochi = subprocess.Popen(python MochiView.py, stdin=aligned.out, stdout=PIPE)\n",
    "!mkdir -p $MOCHI\n",
    "cp mochi.stdout $MOCHI\n",
    "aligned.stdout.close()\n",
    "aligned.communicate()[0]\n",
    "mochi.stdout.close()\n",
    "mochi.communicate()[0]"
   ]
  },
  {
   "cell_type": "code",
   "execution_count": null,
   "metadata": {
    "collapsed": true
   },
   "outputs": [],
   "source": []
  }
 ],
 "metadata": {
  "kernelspec": {
   "display_name": "Python 3",
   "language": "python",
   "name": "python3"
  },
  "language_info": {
   "codemirror_mode": {
    "name": "ipython",
    "version": 3
   },
   "file_extension": ".py",
   "mimetype": "text/x-python",
   "name": "python",
   "nbconvert_exporter": "python",
   "pygments_lexer": "ipython3",
   "version": "3.6.1"
  }
 },
 "nbformat": 4,
 "nbformat_minor": 2
}
